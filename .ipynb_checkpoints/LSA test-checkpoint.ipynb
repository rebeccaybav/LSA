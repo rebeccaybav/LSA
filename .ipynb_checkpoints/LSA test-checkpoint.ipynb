{
 "cells": [
  {
   "cell_type": "code",
   "execution_count": 17,
   "metadata": {},
   "outputs": [
    {
     "name": "stdout",
     "output_type": "stream",
     "text": [
      "The autoreload extension is already loaded. To reload it, use:\n",
      "  %reload_ext autoreload\n"
     ]
    }
   ],
   "source": [
    "%load_ext autoreload\n",
    "%autoreload 2"
   ]
  },
  {
   "cell_type": "code",
   "execution_count": 8,
   "metadata": {},
   "outputs": [
    {
     "data": {
      "text/plain": [
       "'C:\\\\Users\\\\yiur\\\\Documents\\\\GitHub\\\\LSA'"
      ]
     },
     "execution_count": 8,
     "metadata": {},
     "output_type": "execute_result"
    }
   ],
   "source": [
    "os.getcwd()"
   ]
  },
  {
   "cell_type": "code",
   "execution_count": 22,
   "metadata": {},
   "outputs": [],
   "source": [
    "import pandas as pd\n",
    "import re\n",
    "import os\n",
    "import utils\n",
    "from scipy import linalg\n",
    "import matplotlib.pyplot as plt\n",
    "import numpy as np\n",
    "import csv\n",
    "import nltk"
   ]
  },
  {
   "cell_type": "code",
   "execution_count": 36,
   "metadata": {},
   "outputs": [],
   "source": [
    "def open_csv(input_csv):\n",
    "    data_list = []\n",
    "    with open(input_csv) as csvfile:\n",
    "        read_csv = csv.reader(csvfile, delimiter = ',')\n",
    "        for row in read_csv:\n",
    "            data_list.append(row)\n",
    "    return data_list"
   ]
  },
  {
   "cell_type": "code",
   "execution_count": 177,
   "metadata": {},
   "outputs": [],
   "source": [
    "def prep_text(corpus_list, remove_list):\n",
    "    \"\"\"This function cleans and parses a given corpus and returns\n",
    "    a cleaned corpus\"\"\"\n",
    "    clean_text = []\n",
    "    str_list = [str(sent) for sent in corpus_list]\n",
    "    stopwords_list = list(set(nltk.corpus.stopwords.words('english')))\n",
    "\n",
    "    def has_at(inputstring):\n",
    "        return ('@' in inputstring)\n",
    "\n",
    "    def has_link(inputstring):\n",
    "        return ('https' in inputstring)\n",
    "\n",
    "    for sentence in str_list:\n",
    "        sentence = sentence.lower() #Lowercase text\n",
    "        sentence = re.sub('[^A-Za-z0-9\\#]', ' ', sentence) #Remove special characters\n",
    "        sentence = re.sub(' +', ' ', sentence)\n",
    "        sentence = sentence.split()\n",
    "        sentence = [term for term in sentence if has_at(term) == False] #Remove @nametag\n",
    "        sentence = [term for term in sentence if has_link(term) == False]\n",
    "        sentence = [term for term in sentence if term not in stopwords_list] #Remove stopwords\n",
    "        sentence = [term for term in sentence if term not in remove_list]\n",
    "        #sentence = [ps.stem(word) for word in sentence] #Stem words\n",
    "        sentence = ' '.join(sentence)\n",
    "        sentence = sentence.strip()\n",
    "        clean_text.append(sentence)\n",
    "    clean_corpus = clean_text\n",
    "    return clean_corpus"
   ]
  },
  {
   "cell_type": "code",
   "execution_count": 104,
   "metadata": {},
   "outputs": [],
   "source": [
    "data = pd.read_excel('beldata.xls', skiprows = 1)"
   ]
  },
  {
   "cell_type": "code",
   "execution_count": 107,
   "metadata": {},
   "outputs": [],
   "source": [
    "raw_text = data['Contents']"
   ]
  },
  {
   "cell_type": "code",
   "execution_count": 191,
   "metadata": {},
   "outputs": [],
   "source": [
    "remove_list = ['uh', 'huh', 'yeah', 'yes', 'a','of','at','s','for', 'babybel', 'baby', 'bel', 'babybels', 'i', 've', 'don', 'fuck']"
   ]
  },
  {
   "cell_type": "code",
   "execution_count": 192,
   "metadata": {},
   "outputs": [],
   "source": [
    "clean_text = prep_text(raw_text, remove_list)"
   ]
  },
  {
   "cell_type": "code",
   "execution_count": 193,
   "metadata": {},
   "outputs": [],
   "source": [
    "clean_text = list(set(clean_text)) #Remove duplicate posts\n",
    "clean_text = [sent for sent in clean_text if sent] #Remove empty sentence "
   ]
  },
  {
   "cell_type": "markdown",
   "metadata": {},
   "source": [
    "### SVD"
   ]
  },
  {
   "cell_type": "code",
   "execution_count": 43,
   "metadata": {},
   "outputs": [],
   "source": [
    "from sklearn.feature_extraction.text import CountVectorizer, TfidfVectorizer"
   ]
  },
  {
   "cell_type": "code",
   "execution_count": 194,
   "metadata": {},
   "outputs": [],
   "source": [
    "vectorizer_tfidf = TfidfVectorizer(stop_words='english')\n",
    "#vectors_tfidf = vectorizer_tfidf.fit_transform(newsgroups_train.data) # (documents, vocab)"
   ]
  },
  {
   "cell_type": "code",
   "execution_count": 195,
   "metadata": {},
   "outputs": [],
   "source": [
    "vectors = vectorizer_tfidf.fit_transform(clean_text).todense()"
   ]
  },
  {
   "cell_type": "code",
   "execution_count": 184,
   "metadata": {},
   "outputs": [
    {
     "data": {
      "text/plain": [
       "(100, 670)"
      ]
     },
     "execution_count": 184,
     "metadata": {},
     "output_type": "execute_result"
    }
   ],
   "source": [
    "vectors.shape"
   ]
  },
  {
   "cell_type": "code",
   "execution_count": 196,
   "metadata": {},
   "outputs": [],
   "source": [
    "vocab = np.array(vectorizer_tfidf.get_feature_names())"
   ]
  },
  {
   "cell_type": "code",
   "execution_count": 197,
   "metadata": {},
   "outputs": [
    {
     "name": "stdout",
     "output_type": "stream",
     "text": [
      "Wall time: 136 ms\n"
     ]
    }
   ],
   "source": [
    "%time U, s, Vh = linalg.svd(vectors, full_matrices=False)"
   ]
  },
  {
   "cell_type": "code",
   "execution_count": 187,
   "metadata": {},
   "outputs": [
    {
     "data": {
      "image/png": "[encoded data removed]",
      "text/plain": [
       "<Figure size 432x288 with 1 Axes>"
      ]
     },
     "metadata": {
      "needs_background": "light"
     },
     "output_type": "display_data"
    }
   ],
   "source": [
    "plt.plot(s);"
   ]
  },
  {
   "cell_type": "code",
   "execution_count": 198,
   "metadata": {},
   "outputs": [],
   "source": [
    "num_top_words=15\n",
    "\n",
    "def show_topics(a):\n",
    "    top_words = lambda t: [vocab[i] for i in np.argsort(t)[:-num_top_words-1:-1]]\n",
    "    topic_words = ([top_words(t) for t in a])\n",
    "    return [' '.join(t) for t in topic_words]"
   ]
  },
  {
   "cell_type": "code",
   "execution_count": 201,
   "metadata": {},
   "outputs": [],
   "source": [
    "top_20_topics = show_topics(Vh)[0:20]"
   ]
  },
  {
   "cell_type": "code",
   "execution_count": 202,
   "metadata": {},
   "outputs": [
    {
     "data": {
      "text/plain": [
       "['air labels maeganteichman year expired minus picoloapp point mouth kneeling dream jones tom bottles serahsue',\n",
       " 'like wax straight cheddar feel haha lucasmanedwolf foxefuel fridge difficultpatty ran turns forager perfect authorjessowen',\n",
       " 'eat cheeses time bag cheesies lie deadass feed love know snack wheel went bit going',\n",
       " 'eating dark like good wax wheels day raspberries stop expensive arp0s6nfgp approx month seven cheese',\n",
       " 'time thought cheese wax eat day wraps hitting want use naaaaytown greatest divaqbbq traegergrills piece',\n",
       " 'cheeses love day thought meal traegergrills divaqbbq use wax single force perish project new feed',\n",
       " 'cheeses cheese love wax hear bzdjh1qbyj outta nails feed red perish force form entertainment weeks',\n",
       " 'time fridge level good hitting wraps cheese mizpahka naaaaytown greatest weird problem taking seconds wax',\n",
       " 'wax bite use divaqbbq traegergrills took thought eat project new red good friend whoooo staticsupporter',\n",
       " 'day weird fridge meal snack bite level single wax mizpahka took food satisfying idk strawberries',\n",
       " 'meal day good single fridge level cheese mizpahka cow laughing business absolutely seconds problem taking',\n",
       " 'hear cheese weird okay snack divaqbbq traegergrills bed vegan thought cheddar know using satisfying idk',\n",
       " 'level eating fridge mizpahka dark want stop expensive arp0s6nfgp feebux unlock boss 30 currently time',\n",
       " 'wax red snack bzdjh1qbyj nails outta wheels feel tge snuggled peeling form weeks entertainment breaking',\n",
       " 'know going intimidated explain im sad makes luv aztecconsulting bed level hard love okay eating',\n",
       " 'need level wax wrap wait cheddar conserving really meat pic youtube hear entire mizpahka olive',\n",
       " 'weird know cheddar idk satisfying strawberries cinnamon string combo sauce apple need eating snack food',\n",
       " 'know wait family currently youtube need suckin hiding bathroom feed beef happen ncczosz51n ground conserving',\n",
       " 'laughing cow pic meat ashbutts2000 hard entire need clock bread talk peel looks 12 20',\n",
       " 'bed love want wait okay hard wax told shit wine bf brought hear vegan thought']"
      ]
     },
     "execution_count": 202,
     "metadata": {},
     "output_type": "execute_result"
    }
   ],
   "source": [
    "top_20_topics"
   ]
  },
  {
   "cell_type": "code",
   "execution_count": 97,
   "metadata": {},
   "outputs": [],
   "source": [
    "with open('top_20.csv', 'w') as csv_w_file:\n",
    "    writer = csv.writer(csv_w_file, delimiter = '\\n')\n",
    "    writer.writerow(top_20_topics)"
   ]
  }
 ],
 "metadata": {
  "kernelspec": {
   "display_name": "Python 3",
   "language": "python",
   "name": "python3"
  },
  "language_info": {
   "codemirror_mode": {
    "name": "ipython",
    "version": 3
   },
   "file_extension": ".py",
   "mimetype": "text/x-python",
   "name": "python",
   "nbconvert_exporter": "python",
   "pygments_lexer": "ipython3",
   "version": "3.7.4"
  },
  "varInspector": {
   "cols": {
    "lenName": 16,
    "lenType": 16,
    "lenVar": 40
   },
   "kernels_config": {
    "python": {
     "delete_cmd_postfix": "",
     "delete_cmd_prefix": "del ",
     "library": "var_list.py",
     "varRefreshCmd": "print(var_dic_list())"
    },
    "r": {
     "delete_cmd_postfix": ") ",
     "delete_cmd_prefix": "rm(",
     "library": "var_list.r",
     "varRefreshCmd": "cat(var_dic_list()) "
    }
   },
   "types_to_exclude": [
    "module",
    "function",
    "builtin_function_or_method",
    "instance",
    "_Feature"
   ],
   "window_display": false
  }
 },
 "nbformat": 4,
 "nbformat_minor": 2
}
