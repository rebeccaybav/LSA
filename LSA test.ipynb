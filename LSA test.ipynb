{
 "cells": [
  {
   "cell_type": "code",
   "execution_count": 38,
   "metadata": {},
   "outputs": [
    {
     "name": "stdout",
     "output_type": "stream",
     "text": [
      "The autoreload extension is already loaded. To reload it, use:\n",
      "  %reload_ext autoreload\n"
     ]
    }
   ],
   "source": [
    "%load_ext autoreload\n",
    "%autoreload 2"
   ]
  },
  {
   "cell_type": "code",
   "execution_count": 70,
   "metadata": {},
   "outputs": [],
   "source": [
    "import pandas as pd\n",
    "import re\n",
    "import os\n",
    "from utils import prep_text\n",
    "from scipy import linalg\n",
    "import matplotlib.pyplot as plt\n",
    "import numpy as np"
   ]
  },
  {
   "cell_type": "code",
   "execution_count": 7,
   "metadata": {},
   "outputs": [],
   "source": [
    "data = pd.read_excel('mentions.xlsx', skiprows = 7)"
   ]
  },
  {
   "cell_type": "code",
   "execution_count": 9,
   "metadata": {},
   "outputs": [],
   "source": [
    "raw_text = data['Title']"
   ]
  },
  {
   "cell_type": "code",
   "execution_count": 10,
   "metadata": {},
   "outputs": [],
   "source": [
    "remove_list = ['uh', 'huh', 'yeah', 'yes', 'a','of','at','s','for']"
   ]
  },
  {
   "cell_type": "code",
   "execution_count": 46,
   "metadata": {},
   "outputs": [],
   "source": [
    "clean_text = prep_text(raw_text, remove_list)"
   ]
  },
  {
   "cell_type": "code",
   "execution_count": 47,
   "metadata": {},
   "outputs": [],
   "source": [
    "clean_text = list(set(clean_text)) #Remove duplicate posts\n",
    "clean_text = [sent for sent in clean_text if sent] #Remove empty sentence "
   ]
  },
  {
   "cell_type": "markdown",
   "metadata": {},
   "source": [
    "### SVD"
   ]
  },
  {
   "cell_type": "code",
   "execution_count": 17,
   "metadata": {},
   "outputs": [],
   "source": [
    "from sklearn.feature_extraction.text import CountVectorizer, TfidfVectorizer"
   ]
  },
  {
   "cell_type": "code",
   "execution_count": 52,
   "metadata": {},
   "outputs": [],
   "source": [
    "vectorizer_tfidf = TfidfVectorizer(stop_words='english')\n",
    "#vectors_tfidf = vectorizer_tfidf.fit_transform(newsgroups_train.data) # (documents, vocab)"
   ]
  },
  {
   "cell_type": "code",
   "execution_count": 53,
   "metadata": {},
   "outputs": [],
   "source": [
    "vectors = vectorizer_tfidf.fit_transform(clean_text).todense()"
   ]
  },
  {
   "cell_type": "code",
   "execution_count": 59,
   "metadata": {},
   "outputs": [
    {
     "data": {
      "text/plain": [
       "(3027, 8519)"
      ]
     },
     "execution_count": 59,
     "metadata": {},
     "output_type": "execute_result"
    }
   ],
   "source": [
    "vectors.shape"
   ]
  },
  {
   "cell_type": "code",
   "execution_count": 71,
   "metadata": {},
   "outputs": [],
   "source": [
    "vocab = np.array(vectorizer_tfidf.get_feature_names())"
   ]
  },
  {
   "cell_type": "code",
   "execution_count": 60,
   "metadata": {},
   "outputs": [
    {
     "name": "stdout",
     "output_type": "stream",
     "text": [
      "CPU times: user 58.6 s, sys: 2.66 s, total: 1min 1s\n",
      "Wall time: 16.4 s\n"
     ]
    }
   ],
   "source": [
    "%time U, s, Vh = linalg.svd(vectors, full_matrices=False)"
   ]
  },
  {
   "cell_type": "code",
   "execution_count": 67,
   "metadata": {},
   "outputs": [
    {
     "data": {
      "image/png": "[encoded data removed]",
      "text/plain": [
       "<Figure size 432x288 with 1 Axes>"
      ]
     },
     "metadata": {
      "needs_background": "light"
     },
     "output_type": "display_data"
    }
   ],
   "source": [
    "plt.plot(s);"
   ]
  },
  {
   "cell_type": "code",
   "execution_count": 74,
   "metadata": {},
   "outputs": [],
   "source": [
    "num_top_words=20\n",
    "\n",
    "def show_topics(a):\n",
    "    top_words = lambda t: [vocab[i] for i in np.argsort(t)[:-num_top_words-1:-1]]\n",
    "    topic_words = ([top_words(t) for t in a])\n",
    "    return [' '.join(t) for t in topic_words]"
   ]
  },
  {
   "cell_type": "code",
   "execution_count": 76,
   "metadata": {},
   "outputs": [
    {
     "data": {
      "text/plain": [
       "['259 32699548 226 32703679 apex category formal equipesf1 nopeys yep erza nan romeo 9811 blasted avoids alfa 32700025 32699367 7390',\n",
       " 'nasdaq intc intel shares llc nyse management stock holdings american position investment capital express axp sells million asset advisors sold',\n",
       " 'nyse axp express american shares llc management unilever gis mills asset general stock advisors position holdings nv sells ip paper',\n",
       " 'nyse express american axp coronavirus covid 19 trump unilever hilton market briefings mills general gis dozen shares warned 2020 nv',\n",
       " 'trump briefings dozen warned nyse threat agencies axp express american daily coronavirus times ignored classified warnings feb jan intel january',\n",
       " 'stock holdings unilever management nyse general mills gis etf nv adobe adbe ip ishares pff paper preferred corp international hilton',\n",
       " 'shares market growth sold sells general mills gis 2019 technavio boost 2023 nyse intc capital intel estimates 2020 unilever pre',\n",
       " 'shares hilton sold sells covid 19 mills gis general cleanliness intc pandemic hotels airbnb capital initiative marriott lysol paris unilever',\n",
       " 'video adobe editing adbe shares effects services animation freelancer production sold pro videography sells premiere nasdaq acquired trust photo edit',\n",
       " 'covid 19 chinese virus video november trump llc impact holdings know media dirty position intel unilever biden placate order lenders',\n",
       " 'video intc intel editing position services effects nyse llc animation investment production freelancer ip paper management rating international million 2020',\n",
       " 'shares llc etf unilever ishares pff preferred international ip sells paper wealth advisors management ul video nv hilton asset axp',\n",
       " 'adobe adbe unilever position 2020 nyse nv packaging gpk holding ul earnings investors graphic advisors q2 investment asset paper ip',\n",
       " 'management asset new position 2023 2019 technavio boost market general mills gis adbe adobe pre llc investment hilton growth post',\n",
       " 'management ip asset international paper 2020 llc april wealth adobe packaging news gpk adbe holding earnings cubic capital million graphic',\n",
       " 'news international ip paper virus unilever banking sold corp coronavirus nv intel chinese investors holdings investment shares know global trust',\n",
       " 'coronavirus llc position pandemic advisors unilever capital global news business end industry 19 small covid data heinz relief analysis leaders',\n",
       " 'international ip news paper banking dozen covid 19 intc briefings boost price warned estimates technavio sold 2023 00 pre target',\n",
       " 'llc virus ip paper international news financial advisors position chinese boost new 2019 technavio november 2023 adobe group know adbe',\n",
       " 'international ip paper llc industry global size share hilton analysis forecast market advisors stock trends 2026 holdings key lysol players']"
      ]
     },
     "execution_count": 76,
     "metadata": {},
     "output_type": "execute_result"
    }
   ],
   "source": [
    "show_topics(Vh[:20])"
   ]
  },
  {
   "cell_type": "code",
   "execution_count": null,
   "metadata": {},
   "outputs": [],
   "source": []
  }
 ],
 "metadata": {
  "kernelspec": {
   "display_name": "Python 3",
   "language": "python",
   "name": "python3"
  },
  "language_info": {
   "codemirror_mode": {
    "name": "ipython",
    "version": 3
   },
   "file_extension": ".py",
   "mimetype": "text/x-python",
   "name": "python",
   "nbconvert_exporter": "python",
   "pygments_lexer": "ipython3",
   "version": "3.8.0"
  }
 },
 "nbformat": 4,
 "nbformat_minor": 2
}
